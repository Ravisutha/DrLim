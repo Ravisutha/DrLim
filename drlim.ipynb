{
 "cells": [
  {
   "cell_type": "markdown",
   "metadata": {
    "Collapsed": "false",
    "slideshow": {
     "slide_type": "notes"
    }
   },
   "source": [
    "# Dr LIM - Dimensionality reduction by Learning Invariant Mapping\n",
    "\n",
    "- This paper (similar to TSNE) proposes an alternative method to achieve dimensionality reduction"
   ]
  },
  {
   "cell_type": "code",
   "execution_count": 1,
   "metadata": {
    "Collapsed": "false"
   },
   "outputs": [],
   "source": [
    "from __future__ import print_function\n",
    "from functools import reduce\n",
    "\n",
    "import numpy as np\n",
    "\n",
    "import torch\n",
    "import torch.nn as nn\n",
    "import torchvision\n",
    "import torch.nn.functional as F\n",
    "import torch.optim as optim\n",
    "\n",
    "from ipywidgets import interact, interactive, fixed, interact_manual\n",
    "import ipywidgets as widgets\n",
    "\n",
    "from matplotlib import pyplot as plt\n",
    "\n",
    "from image_utilities import plot_images"
   ]
  },
  {
   "cell_type": "markdown",
   "metadata": {
    "Collapsed": "false"
   },
   "source": [
    "## CNN used in the paper \n",
    "\n",
    "![CNN architecture](./images/cnn.png)"
   ]
  },
  {
   "cell_type": "markdown",
   "metadata": {
    "Collapsed": "false",
    "toc-hr-collapsed": true
   },
   "source": [
    "### Torch implementation "
   ]
  },
  {
   "cell_type": "markdown",
   "metadata": {
    "Collapsed": "false"
   },
   "source": [
    "#### Forward"
   ]
  },
  {
   "cell_type": "code",
   "execution_count": 2,
   "metadata": {
    "Collapsed": "false"
   },
   "outputs": [
    {
     "name": "stdout",
     "output_type": "stream",
     "text": [
      "cuda:0\n"
     ]
    },
    {
     "data": {
      "text/plain": [
       "DrlimCNN(\n",
       "  (layer_1): Conv2d(1, 15, kernel_size=(5, 5), stride=(1, 1))\n",
       "  (max_pooling): MaxPool2d(kernel_size=15, stride=1, padding=0, dilation=1, ceil_mode=False)\n",
       "  (layer_3): Conv2d(15, 30, kernel_size=(10, 10), stride=(1, 1))\n",
       "  (output_layer): Linear(in_features=30, out_features=2, bias=True)\n",
       "  (relu): ReLU()\n",
       ")"
      ]
     },
     "execution_count": 2,
     "metadata": {},
     "output_type": "execute_result"
    }
   ],
   "source": [
    "class DrlimCNN(nn.Module):\n",
    "    def __init__(self, n_lower_dim=2):\n",
    "        super(DrlimCNN, self).__init__()\n",
    "        \n",
    "        # Layer 1:\n",
    "        # n_input_channel = 1\n",
    "        # n_output_channel = 15\n",
    "        # Kernel Size = 5 for padding = 0, stride = 1\n",
    "        k_size = 5\n",
    "        in_channels = 1\n",
    "        out_channels = 15 \n",
    "        self.layer_1 = nn.Conv2d(in_channels, out_channels, k_size)\n",
    "        \n",
    "        # Layer 2: Subsampling - Maxpooling\n",
    "        # Kernel Size = 15  for padding=0 and stride = 1\n",
    "        k_size = 15\n",
    "        self.max_pooling = nn.MaxPool2d(k_size, stride=1)\n",
    "        \n",
    "        # Layer 3: Conv layer\n",
    "        # n_input_channel = 15\n",
    "        # n_output_channel = 30\n",
    "        # Kernel size = 10\n",
    "        in_channels = 15\n",
    "        out_channels = 30\n",
    "        k_size = 10\n",
    "        self.layer_3 = nn.Conv2d(in_channels, out_channels, k_size)\n",
    "        \n",
    "        # Layer 4: Fully connected\n",
    "        self.output_layer = nn.Linear(30, n_lower_dim)\n",
    "        \n",
    "        # Relu\n",
    "        self.relu = nn.ReLU()\n",
    "        \n",
    "    def forward(self, x):\n",
    "        # Add relu on top of conv layer\n",
    "        x = self.layer_1(x)\n",
    "        x = self.relu(x)\n",
    "        \n",
    "        # Maxpool \n",
    "        x = self.max_pooling(x)\n",
    "        \n",
    "        # Another conv\n",
    "        x = self.layer_3(x)\n",
    "        \n",
    "        # Get the size except for batch\n",
    "        num_flat_features = reduce(lambda x, y: x * y, x.shape[1:])\n",
    "        \n",
    "        # Flatten\n",
    "        x = x.reshape(-1, num_flat_features)\n",
    "        \n",
    "        # Fully connected \n",
    "        x = self.output_layer(x)\n",
    "        \n",
    "        return x\n",
    "    \n",
    "device = torch.device(\"cuda:0\" if torch.cuda.is_available() else \"cpu\")\n",
    "print(device)\n",
    "\n",
    "net = DrlimCNN()\n",
    "\n",
    "# Enable GPU\n",
    "net.to(device)\n",
    "net.cuda()"
   ]
  },
  {
   "cell_type": "markdown",
   "metadata": {
    "Collapsed": "false",
    "toc-hr-collapsed": true
   },
   "source": [
    "#### Backward"
   ]
  },
  {
   "cell_type": "markdown",
   "metadata": {
    "Collapsed": "false"
   },
   "source": [
    "##### Define contrastive loss function"
   ]
  },
  {
   "cell_type": "code",
   "execution_count": 3,
   "metadata": {
    "Collapsed": "false"
   },
   "outputs": [],
   "source": [
    "def contrastive_loss(output_1, output_2, \n",
    "            target_1, target_2):\n",
    "    \n",
    "    # TODO:\n",
    "    #    if target_1 == target_2:\n",
    "    #        y = torch.zeros_like(output_1, requires_grad=True)\n",
    "    #    else:\n",
    "    #        y = torch.ones_like(output_1, requires_grad=True)\n",
    "        \n",
    "    y = 1 - torch.eq(target_1, target_2).int()\n",
    "        \n",
    "    distance = torch.norm(output_1 - output_2, dim=1)\n",
    "    \n",
    "    # Similar loss\n",
    "    ls = torch.pow(distance, 2)\n",
    "    \n",
    "    # Dissimilar loss\n",
    "    m = 10\n",
    "    ld = torch.max(torch.zeros_like(distance), m - distance)\n",
    "    ld = torch.pow(ld, 2)\n",
    "    \n",
    "    loss = torch.mean((1 - y) * ls + y * ld)\n",
    "    \n",
    "    return loss"
   ]
  },
  {
   "cell_type": "markdown",
   "metadata": {
    "Collapsed": "false"
   },
   "source": [
    "### Test the network once"
   ]
  },
  {
   "cell_type": "code",
   "execution_count": 4,
   "metadata": {
    "Collapsed": "false"
   },
   "outputs": [],
   "source": [
    "test = False \n",
    "if test:\n",
    "    # Test Code\n",
    "    input_1 = torch.randn(1, 1, 28, 28)\n",
    "    input_2 = torch.randn(1, 1, 28, 28)\n",
    "\n",
    "    out_1 = net(input_1.cuda())\n",
    "    out_2 = net(input_2.cuda())\n",
    "    out_1 = out_1.requires_grad_(True)\n",
    "    out_2 = out_2.requires_grad_(True)\n",
    "\n",
    "    print(\"Before:\")\n",
    "    print(net.output_layer.weight.grad)\n",
    "    loss = contrastive_loss(out_1, out_2,\n",
    "                            0, 0)\n",
    "    print(loss)\n",
    "    loss.backward()\n",
    "    print(\"After:\")\n",
    "    print(net.output_layer.weight.grad)"
   ]
  },
  {
   "cell_type": "markdown",
   "metadata": {
    "Collapsed": "false"
   },
   "source": [
    "## Load Data"
   ]
  },
  {
   "cell_type": "code",
   "execution_count": 5,
   "metadata": {
    "Collapsed": "false"
   },
   "outputs": [],
   "source": [
    "n_epochs = 3\n",
    "batch_size_train = 64\n",
    "batch_size_test = 1000\n",
    "learning_rate = 0.01\n",
    "momentum = 0.5\n",
    "log_interval = 10\n",
    "\n",
    "train_loader = torch.utils.data.DataLoader(\n",
    "    torchvision.datasets.MNIST('./files/', train=True, download=True,\n",
    "                               transform=torchvision.transforms.Compose([\n",
    "                                   torchvision.transforms.ToTensor(),\n",
    "                                   torchvision.transforms.Normalize(\n",
    "                                       (0.1307,), (0.3081,))\n",
    "                               ])),\n",
    "    batch_size=batch_size_train, shuffle=True)"
   ]
  },
  {
   "cell_type": "markdown",
   "metadata": {
    "Collapsed": "false"
   },
   "source": [
    "## Train"
   ]
  },
  {
   "cell_type": "code",
   "execution_count": 6,
   "metadata": {
    "Collapsed": "false"
   },
   "outputs": [],
   "source": [
    "target_1 = 9 \n",
    "target_2 = 4"
   ]
  },
  {
   "cell_type": "code",
   "execution_count": 7,
   "metadata": {
    "Collapsed": "false"
   },
   "outputs": [],
   "source": [
    "n_epochs = 100\n",
    "n_random_repeat = 2\n",
    "optimizer = optim.Adam(net.parameters(), lr=3.e-4)\n",
    "\n",
    "all_data = []\n",
    "all_target = []\n",
    "\n",
    "for batch_idx, (data, target) in enumerate(train_loader):\n",
    "    # Choose only either `target_1` or `target_2` \n",
    "    filter_index = ((target == target_1) | (target == target_2))\n",
    "    all_data += data[filter_index].numpy().tolist()\n",
    "    all_target += target[filter_index].numpy().tolist()\n",
    "    \n",
    "all_data.pop()\n",
    "all_target.pop()\n",
    "batch_size = 30\n",
    "\n",
    "all_data = np.array(all_data).reshape(11790, 1, 28, 28)\n",
    "all_target = np.array(all_target).reshape(11790, 1)\n",
    "\n",
    "all_data = np.array(all_data).reshape(-1, 30, 28, 28)\n",
    "all_target = np.array(all_target).reshape(-1, 30)"
   ]
  },
  {
   "cell_type": "code",
   "execution_count": 8,
   "metadata": {
    "Collapsed": "false"
   },
   "outputs": [
    {
     "name": "stdout",
     "output_type": "stream",
     "text": [
      "[100, 381] loss: 0.021100037518888712 \n",
      "Finished Training\n"
     ]
    }
   ],
   "source": [
    "loss_cache = []\n",
    "for epoch in range(n_epochs):  # loop over the dataset multiple times\n",
    "    running_loss = 0.0\n",
    "    for i, data in enumerate(all_data): \n",
    "        target = torch.tensor(all_target[i], dtype=torch.float32)\n",
    "        data  = torch.tensor(data, dtype=torch.float32)\n",
    "        data = torch.unsqueeze(data, 1).to(device)\n",
    "        \n",
    "        input_data, label = data, target\n",
    "        \n",
    "        for r in range(n_random_repeat):\n",
    "            # Split this batch into two groups and compute contrast loss between them\n",
    "            out = net(input_data)\n",
    "            sample = np.random.randint(0, 30, 15).tolist()\n",
    "            out_1, label_1 = out[sample, :], target[sample]\n",
    "            sample = np.random.randint(0, 30, 15).tolist()\n",
    "            out_2, label_2 = out[sample, :], target[sample]\n",
    "\n",
    "            # Loss - against target_1 and target_2\n",
    "            loss = contrastive_loss(out_1.to('cpu'), out_2.to('cpu'),\n",
    "                                    label_1, label_2)\n",
    "\n",
    "            # Back prop\n",
    "            loss.backward()\n",
    "            optimizer.step()\n",
    "            loss_cache.append(loss.detach())\n",
    "\n",
    "        # print statistics\n",
    "        running_loss += loss.item()\n",
    "        if i % 20 == 0:    # print every 2000 mini-batches\n",
    "            print('[{}, {}] loss: {} \\r'.format(epoch + 1, i + 1, running_loss / 2000), end=\"\")\n",
    "            running_loss = 0.0\n",
    "            \n",
    "        optimizer.zero_grad()\n",
    "    \n",
    "print(\"\")\n",
    "\n",
    "print('Finished Training')"
   ]
  },
  {
   "cell_type": "code",
   "execution_count": 9,
   "metadata": {
    "Collapsed": "false"
   },
   "outputs": [
    {
     "data": {
      "text/plain": [
       "Text(0.5, 0, 'Steps')"
      ]
     },
     "execution_count": 9,
     "metadata": {},
     "output_type": "execute_result"
    },
    {
     "data": {
      "image/png": "[encoded data removed]",
      "text/plain": [
       "<Figure size 432x288 with 1 Axes>"
      ]
     },
     "metadata": {
      "needs_background": "light"
     },
     "output_type": "display_data"
    }
   ],
   "source": [
    "plt.plot(list(range(len(loss_cache))), loss_cache)\n",
    "plt.title(\"Epoch vs Loss\")\n",
    "plt.ylabel('Loss')\n",
    "plt.xlabel('Steps')"
   ]
  },
  {
   "cell_type": "code",
   "execution_count": 33,
   "metadata": {
    "Collapsed": "false"
   },
   "outputs": [],
   "source": [
    "test_loader = torch.utils.data.DataLoader(\n",
    "    torchvision.datasets.MNIST('./files/', train=False, download=True,\n",
    "                               transform=torchvision.transforms.Compose([\n",
    "                                   torchvision.transforms.ToTensor(),\n",
    "                                   torchvision.transforms.Normalize(\n",
    "                                       (0.1307,), (0.3081,))\n",
    "                               ])),\n",
    "    batch_size=batch_size_test, shuffle=True)\n",
    "    \n",
    "data_x = []\n",
    "data_y = []\n",
    "data_manifold = []\n",
    "for i in range(10):\n",
    "    filter_index = (target == i)\n",
    "    temp_data = data[filter_index].numpy().squeeze()\n",
    "    \n",
    "    # Get manifold output\n",
    "    temp_data = torch.tensor(temp_data).unsqueeze(1).to(device)\n",
    "    out = net(temp_data)\n",
    "    out = out.clone()\n",
    "    out = out.cpu().detach().numpy().squeeze()\n",
    "    \n",
    "    # Prepare data to plot\n",
    "    data_x.append(out[:, 0])\n",
    "    data_y.append(out[:, 1])"
   ]
  },
  {
   "cell_type": "code",
   "execution_count": 47,
   "metadata": {
    "Collapsed": "false"
   },
   "outputs": [],
   "source": [
    "def plot_graphs(one=False, two=False, \n",
    "                three=False, four=True, \n",
    "                five=False, six=False, \n",
    "                seven=False, eight=False, \n",
    "                nine=True, zero=False):\n",
    "    \n",
    "    global data_x, data_y\n",
    "    plt.figure(figsize=(14, 10))\n",
    "    \n",
    "    mapping = {0:  \"zero\", 1: \"one\",\n",
    "               2: \"two\", 3: \"three\", \n",
    "               4: \"four\", 5: \"five\",\n",
    "               6: \"six\", 7: \"seven\",\n",
    "               8: \"eight\", 9: \"nine\"}\n",
    "    for k in mapping:\n",
    "        if locals()[mapping[k]]:\n",
    "            plt.scatter(data_x[k], data_y[k], label=\"Number {}\".format(k), alpha=0.5)\n",
    "    plt.title(\"Lower dimensional map - Number 9 and Number 4\")\n",
    "    plt.xlabel(\"x\")\n",
    "    plt.ylabel(\"y\")\n",
    "    plt.legend()\n",
    "    plt.show()"
   ]
  },
  {
   "cell_type": "markdown",
   "metadata": {
    "Collapsed": "false"
   },
   "source": [
    "#### Simple Plot"
   ]
  },
  {
   "cell_type": "code",
   "execution_count": 48,
   "metadata": {
    "Collapsed": "false"
   },
   "outputs": [
    {
     "data": {
      "image/png": "[encoded data removed]",
      "text/plain": [
       "<Figure size 1008x720 with 1 Axes>"
      ]
     },
     "metadata": {
      "needs_background": "light"
     },
     "output_type": "display_data"
    }
   ],
   "source": [
    "plot_graphs(nine=True, four=True)"
   ]
  },
  {
   "cell_type": "markdown",
   "metadata": {
    "Collapsed": "false"
   },
   "source": [
    "### Interactive Graph"
   ]
  },
  {
   "cell_type": "code",
   "execution_count": 57,
   "metadata": {
    "Collapsed": "false"
   },
   "outputs": [],
   "source": [
    "w = interactive(plot_graphs)"
   ]
  },
  {
   "cell_type": "code",
   "execution_count": 59,
   "metadata": {
    "Collapsed": "false"
   },
   "outputs": [
    {
     "data": {
      "application/vnd.jupyter.widget-view+json": {
       "model_id": "71c367222add4483929b511fce8067c1",
       "version_major": 2,
       "version_minor": 0
      },
      "text/plain": [
       "HBox(children=(interactive(children=(Checkbox(value=False, description='one'), Checkbox(value=False, descripti…"
      ]
     },
     "metadata": {},
     "output_type": "display_data"
    }
   ],
   "source": [
    "display(w)"
   ]
  }
 ],
 "metadata": {
  "kernelspec": {
   "display_name": "Python 3",
   "language": "python",
   "name": "python3"
  },
  "language_info": {
   "codemirror_mode": {
    "name": "ipython",
    "version": 3
   },
   "file_extension": ".py",
   "mimetype": "text/x-python",
   "name": "python",
   "nbconvert_exporter": "python",
   "pygments_lexer": "ipython3",
   "version": "3.6.9"
  }
 },
 "nbformat": 4,
 "nbformat_minor": 4
}
